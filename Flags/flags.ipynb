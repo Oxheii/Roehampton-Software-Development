{
 "cells": [
  {
   "cell_type": "markdown",
   "metadata": {},
   "source": [
    "Setting Up Python"
   ]
  },
  {
   "cell_type": "code",
   "execution_count": 10,
   "metadata": {},
   "outputs": [
    {
     "name": "stdout",
     "output_type": "stream",
     "text": [
      "Requirement already satisfied: graphics.py in c:\\users\\oxhei\\appdata\\local\\programs\\python\\python310\\lib\\site-packages (5.0.1.post1)\n"
     ]
    }
   ],
   "source": [
    "from gettext import install\n",
    "\n",
    "\n",
    "!pip install graphics.py\n",
    "\n",
    "from graphics import *"
   ]
  },
  {
   "cell_type": "markdown",
   "metadata": {},
   "source": [
    "Creating a graphics Window"
   ]
  },
  {
   "cell_type": "code",
   "execution_count": null,
   "metadata": {},
   "outputs": [],
   "source": [
    "win = GraphWin('name', 600, 400)\n",
    "\n",
    "rect = Rectangle(Point(0, 0), Point(100, 200))\n",
    "\n",
    "rect.setFill('blue')\n",
    "\n",
    "rect.draw(win)\n",
    "\n",
    "win.close()"
   ]
  }
 ],
 "metadata": {
  "kernelspec": {
   "display_name": "Python 3.10.7 64-bit",
   "language": "python",
   "name": "python3"
  },
  "language_info": {
   "codemirror_mode": {
    "name": "ipython",
    "version": 3
   },
   "file_extension": ".py",
   "mimetype": "text/x-python",
   "name": "python",
   "nbconvert_exporter": "python",
   "pygments_lexer": "ipython3",
   "version": "3.10.7"
  },
  "orig_nbformat": 4,
  "vscode": {
   "interpreter": {
    "hash": "b70d50a4669c91304102b4c2050da64064197aa60fae7168736a9e2b39dd4c39"
   }
  }
 },
 "nbformat": 4,
 "nbformat_minor": 2
}
